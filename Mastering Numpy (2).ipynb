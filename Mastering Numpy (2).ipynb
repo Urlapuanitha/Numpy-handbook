{
 "cells": [
  {
   "cell_type": "markdown",
   "id": "e04bdd9c-a0ea-457d-8040-dad461b639a4",
   "metadata": {},
   "source": [
    "**Data Manipulation,Agrgregation,and Analysis for Data Science using Numpy**\n",
    "\n",
    "Here’s a structured approach to get familiar with NumPy, along with a Python program to demonstrate data manipulation, aggregation, and analysis. I’ll cover core functionalities, basic examples, and real-world applications."
   ]
  },
  {
   "cell_type": "markdown",
   "id": "42944177-6333-49b7-bdf8-4c92a98c6420",
   "metadata": {},
   "source": [
    "**Getting Familiar with NumPy**\n",
    "\n",
    "Core Functionalities:\n",
    "\n",
    "**Creating Arrays**:\n",
    "\n",
    "NumPy arrays are the core data structure. They are more efficient than Python lists for numerical operations."
   ]
  },
  {
   "cell_type": "code",
   "execution_count": 1,
   "id": "5312ba91-1d46-47ee-b0db-912b654e59ae",
   "metadata": {},
   "outputs": [
    {
     "name": "stdout",
     "output_type": "stream",
     "text": [
      "1D Array: [1 2 3 4 5]\n",
      "2D Array:\n",
      " [[1 2 3]\n",
      " [4 5 6]]\n"
     ]
    }
   ],
   "source": [
    "import numpy as np\n",
    "\n",
    "# Creating a 1D array\n",
    "arr = np.array([1, 2, 3, 4, 5])\n",
    "print(\"1D Array:\", arr)\n",
    "\n",
    "# Creating a 2D array\n",
    "arr_2d = np.array([[1, 2, 3], [4, 5, 6]])\n",
    "print(\"2D Array:\\n\", arr_2d)"
   ]
  },
  {
   "cell_type": "markdown",
   "id": "a7911fa8-12f3-47df-b647-d71d90268ea2",
   "metadata": {},
   "source": [
    "**Basic Operations**:\n",
    "\n",
    "NumPy supports a variety of mathematical operations"
   ]
  },
  {
   "cell_type": "code",
   "execution_count": 2,
   "id": "292526da-7607-4ace-bb99-acf7935e0854",
   "metadata": {},
   "outputs": [
    {
     "name": "stdout",
     "output_type": "stream",
     "text": [
      "Sum: [5 7 9]\n",
      "Product: [ 4 10 18]\n"
     ]
    }
   ],
   "source": [
    "# Element-wise addition\n",
    "arr1 = np.array([1, 2, 3])\n",
    "arr2 = np.array([4, 5, 6])\n",
    "sum_arr = arr1 + arr2\n",
    "print(\"Sum:\", sum_arr)\n",
    "\n",
    "# Element-wise multiplication\n",
    "product_arr = arr1 * arr2\n",
    "print(\"Product:\", product_arr)\n"
   ]
  },
  {
   "cell_type": "markdown",
   "id": "8e8f0c40-da87-4be2-8da9-5cf867dea965",
   "metadata": {},
   "source": [
    "**Array Properties**:"
   ]
  },
  {
   "cell_type": "code",
   "execution_count": 3,
   "id": "a0e5a372-82eb-4486-ab65-b237a1b9ae07",
   "metadata": {},
   "outputs": [
    {
     "name": "stdout",
     "output_type": "stream",
     "text": [
      "Shape of arr_2d: (2, 3)\n",
      "Size of arr_2d: 6\n",
      "Data type of arr_2d: int64\n"
     ]
    }
   ],
   "source": [
    "# Array shape and size\n",
    "print(\"Shape of arr_2d:\", arr_2d.shape)\n",
    "print(\"Size of arr_2d:\", arr_2d.size)\n",
    "print(\"Data type of arr_2d:\", arr_2d.dtype)\n"
   ]
  },
  {
   "cell_type": "markdown",
   "id": "3c2b8c05-5ccf-4a93-8079-b2d3c51a6c43",
   "metadata": {},
   "source": [
    "**Data Manipulation**\n",
    "\n",
    "Python Program Example:italicized text"
   ]
  },
  {
   "cell_type": "code",
   "execution_count": 4,
   "id": "67f8076e-f2b3-4a0a-98f8-e0d279bc0b1f",
   "metadata": {},
   "outputs": [
    {
     "name": "stdout",
     "output_type": "stream",
     "text": [
      "Element at index 2: 30\n",
      "Slice from index 1 to 4: [20 30 40]\n",
      "Reshaped Data:\n",
      " [[10 20 30]\n",
      " [40 50 60]]\n",
      "Squared Data: [ 100  400  900 1600 2500 3600]\n"
     ]
    }
   ],
   "source": [
    "import numpy as np\n",
    "\n",
    "# Creating an array\n",
    "data = np.array([10, 20, 30, 40, 50, 60])\n",
    "\n",
    "# Indexing\n",
    "print(\"Element at index 2:\", data[2])\n",
    "\n",
    "# Slicing\n",
    "print(\"Slice from index 1 to 4:\", data[1:4])\n",
    "\n",
    "# Reshaping\n",
    "reshaped_data = data.reshape(2, 3)\n",
    "print(\"Reshaped Data:\\n\", reshaped_data)\n",
    "\n",
    "# Mathematical Operations\n",
    "data_squared = np.power(data, 2)\n",
    "print(\"Squared Data:\", data_squared)\n"
   ]
  },
  {
   "cell_type": "markdown",
   "id": "e341e353-0dcc-416a-9461-89f7ed72d49e",
   "metadata": {},
   "source": [
    "**Data Aggregation**\n",
    "\n",
    "Using NumPy Functions for Summary Statistics:\n",
    "\n"
   ]
  },
  {
   "cell_type": "code",
   "execution_count": 5,
   "id": "a33dc03f-733e-40ca-8fc8-8e107cb9be06",
   "metadata": {},
   "outputs": [
    {
     "name": "stdout",
     "output_type": "stream",
     "text": [
      "Mean: 30.0\n",
      "Median: 30.0\n",
      "Standard Deviation: 14.142135623730951\n",
      "Sum: 150\n"
     ]
    }
   ],
   "source": [
    "import numpy as np\n",
    "\n",
    "data = np.array([10, 20, 30, 40, 50])\n",
    "\n",
    "# Mean\n",
    "mean_val = np.mean(data)\n",
    "print(\"Mean:\", mean_val)\n",
    "\n",
    "# Median\n",
    "median_val = np.median(data)\n",
    "print(\"Median:\", median_val)\n",
    "\n",
    "# Standard Deviation\n",
    "std_dev = np.std(data)\n",
    "print(\"Standard Deviation:\", std_dev)\n",
    "\n",
    "# Sum\n",
    "total_sum = np.sum(data)\n",
    "print(\"Sum:\", total_sum)\n"
   ]
  },
  {
   "cell_type": "markdown",
   "id": "62740593-b893-41ba-89ac-44e75ac7873f",
   "metadata": {},
   "source": [
    "**Data Analysis**\n",
    "\n",
    "Correlations, Outliers, and Percentiles:"
   ]
  },
  {
   "cell_type": "code",
   "execution_count": 6,
   "id": "74b394dd-4b80-470c-8949-cf1356c48f1e",
   "metadata": {},
   "outputs": [
    {
     "name": "stdout",
     "output_type": "stream",
     "text": [
      "Outliers: [100]\n",
      "25th, 50th, 75th Percentiles: [2.25 4.   5.75]\n"
     ]
    }
   ],
   "source": [
    "import numpy as np\n",
    "\n",
    "data = np.array([1, 2, 2, 3, 4, 4, 5, 6, 8, 100])\n",
    "\n",
    "# Correlation (requires two arrays, example skipped for simplicity)\n",
    "\n",
    "# Identifying outliers\n",
    "mean = np.mean(data)\n",
    "std_dev = np.std(data)\n",
    "outliers = data[(data > mean + 2 * std_dev) | (data < mean - 2 * std_dev)]\n",
    "print(\"Outliers:\", outliers)\n",
    "\n",
    "# Percentiles\n",
    "percentiles = np.percentile(data, [25, 50, 75])\n",
    "print(\"25th, 50th, 75th Percentiles:\", percentiles)\n"
   ]
  },
  {
   "cell_type": "markdown",
   "id": "016be3e0-841c-4535-a3e0-5d51778b3893",
   "metadata": {},
   "source": [
    "**Advantages of Using NumPy**:\n",
    "\n",
    "Performance:\n",
    "\n",
    "NumPy operations are faster and more efficient than traditional Python data structures due to its implementation in C. Memory Efficiency: NumPy uses less memory for large datasets. Vectorized Operations: Allows for operations on entire arrays without needing explicit loops. Real-World Examples:\n",
    "\n",
    "Machine Learning:\n",
    "\n",
    "NumPy arrays are used for handling large datasets, performing matrix operations, and feeding data into machine learning algorithms. Financial Analysis: NumPy helps in analyzing stock prices, computing financial metrics, and running simulations. Scientific Research: Essential for numerical simulations, data analysis, and handling complex mathematical operations.\n",
    "\n"
   ]
  }
 ],
 "metadata": {
  "kernelspec": {
   "display_name": "Python 3 (ipykernel)",
   "language": "python",
   "name": "python3"
  },
  "language_info": {
   "codemirror_mode": {
    "name": "ipython",
    "version": 3
   },
   "file_extension": ".py",
   "mimetype": "text/x-python",
   "name": "python",
   "nbconvert_exporter": "python",
   "pygments_lexer": "ipython3",
   "version": "3.12.4"
  }
 },
 "nbformat": 4,
 "nbformat_minor": 5
}
